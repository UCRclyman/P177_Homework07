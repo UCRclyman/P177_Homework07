{
 "cells": [
  {
   "cell_type": "markdown",
   "metadata": {},
   "source": [
    "# Homework 07: Markov Chain Monte Carlo\n",
    "\n",
    "I guess the purpose of this homework assignment is to fill it with possible problems.\n",
    "\n",
    "We were told the three things in class that we should walk away with are the three Ms:\n",
    "\n",
    "## Markov Chain\n",
    "## Monte Carlo\n",
    "## Metropolis Algorithm\n",
    "\n",
    "I'm still having trouble fully coming to terms with these concepts. I'll try and explain these three to the best of my knowledge and then propose potential problems.\n",
    "\n",
    "## Markov Chain\n",
    "\n",
    "This is a stochastic model (a tool for estimating probability distributions of potential outcomes by allowing for random variation in one or more inputs over time). This model describes sequences of events in which the probability of the events are depenedant upon the state of the previous event.\n",
    "\n",
    "A good example of this is the drunk man walks we did in Homework 6. A drunk guys steps on a plane are dependant on where his previous steps were (or for the first step, where his origin is). We can then create a model of his walking patterns by creating a chain of image like events where each image is his displacement. We can take the drunk guy idea even further with the Monte Carlo concept.\n",
    "\n",
    "## Monte Carlo\n",
    "\n",
    "As far as I know, the Monte Carlo method is a way of obtaining results through random sampling. My best way of explaining this is by applying it to the drunk guy. How are we to know which way Professor Tanedo is going to go if he in his drunk self doesn't even know. We're stuck then, how do we model this Markov Chain? We use the Monte Carlo method and design what is called a Markov Chain Monte Carlo (MCMC.) We create a series of if else statements using a python random number generator to determine which way Professor Tanedo goes. This way, each input is randomly determined, each step is randomly taken, and the image of each displacement is recorded and chained to the model. We already practiced this in Homework 6 with one dimensional and three dimensional walks. Lets add on to this with the Metropolis-Hastings Algorithm.\n",
    "\n",
    "## Metropolis\n",
    "\n",
    "I have no idea what this is. Professor Hybo Yu tried his best to explain it but I'm still confused. He and Dr. Tanedo both mentioned something about leap frogging and honestly I don't know. I think this homework should have explored this concept in depth with some problems that take us through what this algorithm is, how it works, and how to apply it to something. I've read about it several times and I still can't make much sense of it. I THINK it's used to help graph the spin problem in Homework 8 but I'm not too sure.\n",
    "\n",
    "## What should be problems in homework 7\n",
    "\n",
    "I honestly think homework 7 should have been a guide on the Metropolis-Hastings Algorithm. Maybe it's actually really simple but I don't quite understand it and personally would have preferred if Homework 7 explored this more. Homework 6 did a great job on explaining randomness and the Monte Carlo method and then expanding that into the Markov Chain, which worked really well as a stepping stone into the Spin Problem.\n",
    "\n",
    "As Problems for this Homework I would have liked to see:\n",
    "\n",
    "## 1.\n",
    "\n",
    "What is the Metropolis Algorithm?\n",
    "\n",
    "## 2.\n",
    "\n",
    "How does it work? where is it best applied?\n",
    "\n",
    "## 3.\n",
    "\n",
    "Here is an example, the leap frog, follow this code and then design your own example.\n",
    "\n",
    "With this problem set we could have an excellent entry for a second problem in Homework 8 which combines all three concepts together. However, the Metropolis Algorithm may already be in use in the spin problem. I'm not exactly sure to be honest."
   ]
  },
  {
   "cell_type": "code",
   "execution_count": null,
   "metadata": {
    "collapsed": true
   },
   "outputs": [],
   "source": []
  }
 ],
 "metadata": {
  "kernelspec": {
   "display_name": "Python 3",
   "language": "python",
   "name": "python3"
  },
  "language_info": {
   "codemirror_mode": {
    "name": "ipython",
    "version": 3
   },
   "file_extension": ".py",
   "mimetype": "text/x-python",
   "name": "python",
   "nbconvert_exporter": "python",
   "pygments_lexer": "ipython3",
   "version": "3.6.0"
  }
 },
 "nbformat": 4,
 "nbformat_minor": 2
}
